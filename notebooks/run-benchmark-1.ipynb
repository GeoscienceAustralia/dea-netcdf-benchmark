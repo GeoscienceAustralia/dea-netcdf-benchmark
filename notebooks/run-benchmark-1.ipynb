{
 "cells": [
  {
   "cell_type": "code",
   "execution_count": null,
   "metadata": {},
   "outputs": [],
   "source": [
    "%matplotlib inline\n",
    "from matplotlib import pyplot as plt"
   ]
  },
  {
   "cell_type": "code",
   "execution_count": null,
   "metadata": {},
   "outputs": [],
   "source": [
    "import warnings\n",
    "warnings.filterwarnings('ignore', module=\"h5py\")"
   ]
  },
  {
   "cell_type": "code",
   "execution_count": null,
   "metadata": {},
   "outputs": [],
   "source": [
    "import pickle\n",
    "import numpy as np\n",
    "import itertools\n",
    "from types import SimpleNamespace\n",
    "import copy\n",
    "from mpnetcdf4.utils import Timer\n",
    "from mpnetcdf4.benchmarking import (\n",
    "    with_stats,\n",
    "    run_benchmark,\n",
    "    dump_as_pickle,\n",
    "    plot_benchmark_results)\n",
    "\n",
    "from mpnetcdf4 import ReaderFactory\n",
    "from tests import TEST_HDF_FILE, TEST_HDF_STACKED_FILE\n",
    "\n",
    "display(TEST_HDF_STACKED_FILE)\n",
    "!hostname && (hash free 2> /dev/null && free -m)"
   ]
  },
  {
   "cell_type": "code",
   "execution_count": null,
   "metadata": {},
   "outputs": [],
   "source": [
    "def warmup_proc_pool(mp_factory):\n",
    "    _, stats = run_benchmark(params, mp_factory,\n",
    "                             chunk_scale=None,\n",
    "                             src_roi=np.s_[:1,:,:])\n",
    "    return stats\n",
    "\n",
    "def prep_storage(pp, mp_factory):\n",
    "    with mp_factory.open(pp.fname, 1) as f:\n",
    "        return f.allocate(pp.measurements, pp.src_roi)"
   ]
  },
  {
   "cell_type": "code",
   "execution_count": null,
   "metadata": {},
   "outputs": [],
   "source": [
    "quick_test = False\n",
    "params = SimpleNamespace(\n",
    "    fname=TEST_HDF_STACKED_FILE,\n",
    "    mb=100,\n",
    "    nprocs=15,\n",
    "    src_roi=None,\n",
    "    chunk_scale=(1,1,8),\n",
    "    measurements=['red', 'green', 'blue', 'nir', 'swir1', 'swir2', 'coastal_aerosol'])"
   ]
  },
  {
   "cell_type": "code",
   "execution_count": null,
   "metadata": {},
   "outputs": [],
   "source": [
    "if quick_test:\n",
    "    params.src_roi = np.s_[:10, :400, :]\n",
    "    params.nprocs = 4"
   ]
  },
  {
   "cell_type": "code",
   "execution_count": null,
   "metadata": {},
   "outputs": [],
   "source": [
    "with Timer(message='Prepare'):\n",
    "    mp_factory = ReaderFactory(params.nprocs, mb=params.mb)\n",
    "\n",
    "warmup_proc_pool(mp_factory)"
   ]
  },
  {
   "cell_type": "code",
   "execution_count": null,
   "metadata": {},
   "outputs": [],
   "source": [
    "out = prep_storage(params, mp_factory)\n",
    "all_stats = []\n",
    "\n",
    "for nprocs in range(1,params.nprocs+1):\n",
    "    out, stats = run_benchmark(params, mp_factory, dst=out, nprocs=nprocs)\n",
    "    all_stats.append(stats)"
   ]
  },
  {
   "cell_type": "code",
   "execution_count": null,
   "metadata": {},
   "outputs": [],
   "source": [
    "dump_as_pickle(all_stats, 'benchmark-result-%02d.pickle')"
   ]
  },
  {
   "cell_type": "code",
   "execution_count": null,
   "metadata": {},
   "outputs": [],
   "source": [
    "plot_benchmark_results(all_stats, fig=plt.figure(figsize=(16,4)))"
   ]
  },
  {
   "cell_type": "code",
   "execution_count": null,
   "metadata": {},
   "outputs": [],
   "source": [
    "[(s.params.nprocs, s.t_total, 100*(s.t_total - s.elapsed)/s.t_total, s.throughput_mb)\n",
    " for s in all_stats]"
   ]
  }
 ],
 "metadata": {
  "kernelspec": {
   "display_name": "Python 3",
   "language": "python",
   "name": "python3"
  },
  "language_info": {
   "codemirror_mode": {
    "name": "ipython",
    "version": 3
   },
   "file_extension": ".py",
   "mimetype": "text/x-python",
   "name": "python",
   "nbconvert_exporter": "python",
   "pygments_lexer": "ipython3",
   "version": "3.6.3"
  }
 },
 "nbformat": 4,
 "nbformat_minor": 2
}
