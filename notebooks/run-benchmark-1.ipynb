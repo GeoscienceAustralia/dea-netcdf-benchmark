{
 "cells": [
  {
   "cell_type": "code",
   "execution_count": null,
   "metadata": {},
   "outputs": [],
   "source": [
    "%matplotlib inline\n",
    "from matplotlib import pyplot as plt"
   ]
  },
  {
   "cell_type": "code",
   "execution_count": null,
   "metadata": {},
   "outputs": [],
   "source": [
    "import warnings\n",
    "warnings.filterwarnings('ignore', module=\"h5py\")"
   ]
  },
  {
   "cell_type": "code",
   "execution_count": null,
   "metadata": {},
   "outputs": [],
   "source": [
    "import pickle\n",
    "import numpy as np\n",
    "import itertools\n",
    "from types import SimpleNamespace\n",
    "import copy\n",
    "from mpnetcdf4.utils import Timer\n",
    "from mpnetcdf4.benchmarking import with_stats, plot_benchmark_results\n",
    "from mpnetcdf4 import ReaderFactory\n",
    "from tests import TEST_HDF_FILE, TEST_HDF_STACKED_FILE\n",
    "\n",
    "display(TEST_HDF_STACKED_FILE)\n",
    "!hostname && free -m"
   ]
  },
  {
   "cell_type": "code",
   "execution_count": null,
   "metadata": {},
   "outputs": [],
   "source": [
    "def run_bencmark(pp):\n",
    "    print(pp)\n",
    "    \n",
    "    with Timer() as t_total:\n",
    "        with Timer(message='Prepare') as t:\n",
    "            mp_factory = ReaderFactory(pp.nprocs, mb=pp.mb)\n",
    "        \n",
    "        t_prepare = t.elapsed\n",
    "    \n",
    "        with Timer(message='Open') as t:\n",
    "            f = mp_factory.open(pp.fname)\n",
    "    \n",
    "        t_open = t.elapsed\n",
    "        \n",
    "        read = with_stats(f.read, message='Read x%d'%pp.nprocs)\n",
    "    \n",
    "        out, stats = read(measurements=pp.measurements,\n",
    "                          src_roi=pp.src_roi,\n",
    "                          chunk_scale=pp.chunk_scale)\n",
    "    \n",
    "    stats.t_total = t_total.elapsed\n",
    "    stats.t_prepare = t_prepare\n",
    "    stats.t_open = t_open\n",
    "    stats.params = copy.copy(pp)\n",
    "    \n",
    "    return out, stats"
   ]
  },
  {
   "cell_type": "code",
   "execution_count": null,
   "metadata": {},
   "outputs": [],
   "source": [
    "params = SimpleNamespace(\n",
    "    fname=TEST_HDF_STACKED_FILE,\n",
    "    mb=100,\n",
    "    nprocs=1,\n",
    "    src_roi=None, #np.s_[:, 800:1000, 200:400],\n",
    "    chunk_scale=(1,1,8),\n",
    "    measurements=['red', 'green', 'blue', 'nir', 'swir1', 'swir2', 'coastal_aerosol'])\n"
   ]
  },
  {
   "cell_type": "code",
   "execution_count": null,
   "metadata": {},
   "outputs": [],
   "source": [
    "all_stats = []\n",
    "for num_procs in range(1,16):\n",
    "    pp = copy.copy(params)\n",
    "    pp.nprocs = num_procs\n",
    "    out, stats = run_bencmark(pp)\n",
    "    del out\n",
    "    all_stats.append(stats)"
   ]
  },
  {
   "cell_type": "code",
   "execution_count": null,
   "metadata": {},
   "outputs": [],
   "source": [
    "plot_benchmark_results(all_stats, fig=plt.figure(figsize=(16,4)))"
   ]
  },
  {
   "cell_type": "code",
   "execution_count": null,
   "metadata": {},
   "outputs": [],
   "source": [
    "[ (s.params.nprocs, s.t_total, 100*(s.t_total - s.elapsed)/s.t_total, s.throughput_mb) for s in all_stats]"
   ]
  },
  {
   "cell_type": "code",
   "execution_count": null,
   "metadata": {},
   "outputs": [],
   "source": [
    "pickle.dump(all_stats, open('all_stats-6.pickle', 'wb'))"
   ]
  },
  {
   "cell_type": "code",
   "execution_count": null,
   "metadata": {},
   "outputs": [],
   "source": [
    "!ls -la *pickle"
   ]
  }
 ],
 "metadata": {
  "kernelspec": {
   "display_name": "Python 3",
   "language": "python",
   "name": "python3"
  },
  "language_info": {
   "codemirror_mode": {
    "name": "ipython",
    "version": 3
   },
   "file_extension": ".py",
   "mimetype": "text/x-python",
   "name": "python",
   "nbconvert_exporter": "python",
   "pygments_lexer": "ipython3",
   "version": "3.6.3"
  }
 },
 "nbformat": 4,
 "nbformat_minor": 2
}
