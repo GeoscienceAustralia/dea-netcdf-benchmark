{
 "cells": [
  {
   "cell_type": "code",
   "execution_count": null,
   "metadata": {},
   "outputs": [],
   "source": [
    "import warnings\n",
    "warnings.filterwarnings('ignore', module=\"h5py\")"
   ]
  },
  {
   "cell_type": "code",
   "execution_count": null,
   "metadata": {},
   "outputs": [],
   "source": [
    "%matplotlib inline\n",
    "from matplotlib import pyplot as plt"
   ]
  },
  {
   "cell_type": "code",
   "execution_count": null,
   "metadata": {},
   "outputs": [],
   "source": [
    "import numpy as np\n",
    "import itertools\n",
    "import collections\n",
    "from types import SimpleNamespace\n",
    "from mpnetcdf4.utils import Timer, norm_selection, interleave_n, shape_from_slice\n",
    "from mpnetcdf4.benchmarking import (\n",
    "    with_stats,\n",
    "    run_benchmark,\n",
    "    dump_as_pickle,\n",
    "    plot_benchmark_results)\n",
    "\n",
    "from mpnetcdf4 import ReaderFactory\n",
    "from mpnetcdf4.ncread import VStackReader, alloc_empty\n",
    "\n",
    "def load_file_list(fname):\n",
    "    with open(fname, 'rt') as f:\n",
    "        return [s.rstrip() for s in f.readlines()]"
   ]
  },
  {
   "cell_type": "code",
   "execution_count": null,
   "metadata": {},
   "outputs": [],
   "source": [
    "params = SimpleNamespace(\n",
    "    mb=100,\n",
    "    nprocs=8,\n",
    "    xy_roi=np.s_[:,:], #1000:1800, 1000:1800],\n",
    "    chunk_scale=(1,2,2),\n",
    "    measurements=('red','green', 'blue', 'nir', 'swir1', 'swir2', 'coastal_aerosol')\n",
    ")\n",
    "\n",
    "mpr = ReaderFactory(params.nprocs, mb=params.mb)"
   ]
  },
  {
   "cell_type": "code",
   "execution_count": null,
   "metadata": {},
   "outputs": [],
   "source": [
    "ff = load_file_list('ls8_tile_2016.txt')[:(8*2)]\n",
    "len(ff), ff[:3]"
   ]
  },
  {
   "cell_type": "code",
   "execution_count": null,
   "metadata": {},
   "outputs": [],
   "source": [
    "rdr = VStackReader(ff, mpr, params)\n",
    "ds = rdr.alloc(params.xy_roi)"
   ]
  },
  {
   "cell_type": "markdown",
   "metadata": {},
   "source": [
    "### warm up"
   ]
  },
  {
   "cell_type": "code",
   "execution_count": null,
   "metadata": {},
   "outputs": [],
   "source": [
    "ds, stats = with_stats(rdr.read)(params.xy_roi, ds)\n",
    "stats"
   ]
  },
  {
   "cell_type": "code",
   "execution_count": null,
   "metadata": {},
   "outputs": [],
   "source": [
    "ds.red.isel(time=11).plot.imshow(add_colorbar=False,\n",
    "                                 add_labels=False,\n",
    "                                 );"
   ]
  },
  {
   "cell_type": "code",
   "execution_count": null,
   "metadata": {},
   "outputs": [],
   "source": [
    "plt.plot(ds.red.values[:, 100, 101], '.')"
   ]
  },
  {
   "cell_type": "markdown",
   "metadata": {},
   "source": [
    "### run benchmark"
   ]
  },
  {
   "cell_type": "code",
   "execution_count": null,
   "metadata": {},
   "outputs": [],
   "source": [
    "all_stats = []\n",
    "\n",
    "def run_bench(xy_roi, ds, nprocs):\n",
    "    from copy import copy\n",
    "    \n",
    "    pp = copy(params)\n",
    "    pp.nprocs = nprocs\n",
    "    pp.xy_roi = xy_roi\n",
    "    \n",
    "    print('Starting read: %d procs' % (nprocs))\n",
    "    \n",
    "    ds, stats = with_stats(rdr.read)(xy_roi, ds, nprocs=nprocs)\n",
    "    \n",
    "    print('Read %d mb in %.3f secs (%.3f Mb/s, %.3f Mb/s/proc)' %(\n",
    "        stats.mb, stats.elapsed,\n",
    "        stats.throughput_mb,\n",
    "        stats.throughput_mb/nprocs\n",
    "    ))\n",
    "    \n",
    "    stats.t_total = stats.elapsed\n",
    "    stats.params = pp\n",
    "    \n",
    "    return ds, stats\n",
    "\n",
    "for nprocs in range(1, params.nprocs+1):\n",
    "    ds, stats = run_bench(params.xy_roi, ds, nprocs=nprocs)\n",
    "    all_stats.append(stats)"
   ]
  },
  {
   "cell_type": "code",
   "execution_count": null,
   "metadata": {},
   "outputs": [],
   "source": [
    "plot_benchmark_results(all_stats, fig=plt.figure(figsize=(16,4)))"
   ]
  },
  {
   "cell_type": "code",
   "execution_count": null,
   "metadata": {},
   "outputs": [],
   "source": []
  }
 ],
 "metadata": {
  "kernelspec": {
   "display_name": "Python 3",
   "language": "python",
   "name": "python3"
  },
  "language_info": {
   "codemirror_mode": {
    "name": "ipython",
    "version": 3
   },
   "file_extension": ".py",
   "mimetype": "text/x-python",
   "name": "python",
   "nbconvert_exporter": "python",
   "pygments_lexer": "ipython3",
   "version": "3.6.4"
  }
 },
 "nbformat": 4,
 "nbformat_minor": 2
}
